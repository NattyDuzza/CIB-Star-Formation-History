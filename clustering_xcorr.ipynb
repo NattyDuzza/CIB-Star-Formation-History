{
 "cells": [
  {
   "cell_type": "markdown",
   "id": "559c57e9",
   "metadata": {},
   "source": [
    "# Preamble"
   ]
  },
  {
   "cell_type": "markdown",
   "id": "f694201f",
   "metadata": {},
   "source": [
    "Here we import all the necessary python packages for our calculations. These include:\n",
    "- `numpy` for fast calculations\n",
    "- `healpy` for creating/loading/manipulating pixelised maps of the fields we wish to cross-correlate\n",
    "- `matplotlib.pyplot` for plotting our results\n",
    "- `pymaster` for computing angular power spectra\n",
    "- `sacc` for storing our results in a convenient format"
   ]
  },
  {
   "cell_type": "code",
   "execution_count": 2,
   "id": "ccc6132f",
   "metadata": {},
   "outputs": [],
   "source": [
    "\n",
    "\n",
    "\n",
    "import numpy as np\n",
    "import healpy as hp\n",
    "import matplotlib.pyplot as plt\n",
    "import pymaster as nmt\n",
    "import sacc\n",
    "from matplotlib.colors import SymLogNorm"
   ]
  },
  {
   "cell_type": "markdown",
   "id": "01d49aa5",
   "metadata": {},
   "source": [
    "# Load data"
   ]
  },
  {
   "cell_type": "markdown",
   "id": "cd8d211e",
   "metadata": {},
   "source": [
    "Let's first load the masks corresponding to the different surveys. These masks reflect the survey geometry, and serve to downweight pixels in which measurements of the field are expected to be less reliable -- e.g. the observed galaxy density is likely to be less reliable in regions near bright stars, as the light from these stars obscures the light from more distant objects."
   ]
  },
  {
   "cell_type": "code",
   "execution_count": 3,
   "id": "c593ba11",
   "metadata": {},
   "outputs": [],
   "source": [
    "# Directory in which the maps are stored\n",
    "path_maps = 'SkyMaps/GCxCIB/maps/'\n",
    "# Load the HSC mask\n",
    "mask_hsc = hp.read_map(path_maps + 'hsc_mask_nside1024.fits')\n",
    "# Load the CIB mask\n",
    "mask_cib = hp.read_map(path_maps + 'cib_mask_nside1024.fits')"
   ]
  },
  {
   "cell_type": "markdown",
   "id": "60097955",
   "metadata": {},
   "source": [
    "Now we load the maps for the fields we want to cross-correlate. Here we are loading maps of the galaxy density contrast, $\\delta_g$, for 4 galaxy samples selected from HSC DR3. These samples were selected to lie in the following redshift ranges:\n",
    "- $0.3 \\leq z < 0.6$\n",
    "- $0.6 \\leq z < 0.9$\n",
    "- $0.9 \\leq z < 1.2$\n",
    "- $1.2 \\leq z < 1.5$"
   ]
  },
  {
   "cell_type": "code",
   "execution_count": 4,
   "id": "f5a6ec0e",
   "metadata": {},
   "outputs": [],
   "source": [
    "# Load all 4 HSC maps and store in a list\n",
    "dg_maps = [hp.read_map(path_maps + f'hsc_zbin{i}_nside1024.fits') for i in range(4)]"
   ]
  },
  {
   "cell_type": "markdown",
   "id": "17bb10ed",
   "metadata": {},
   "source": [
    "The final ingredient is the map of the CIB intensity, measured in a band whose effective wavelength is 857 ${\\mu}{\\rm m}$."
   ]
  },
  {
   "cell_type": "code",
   "execution_count": 5,
   "id": "9656f4c6",
   "metadata": {},
   "outputs": [],
   "source": [
    "# Load the CIB map\n",
    "cib_map = hp.read_map(path_maps + 'cib_857micron_signal_nside1024.fits')"
   ]
  },
  {
   "cell_type": "markdown",
   "id": "c8d5cd3a",
   "metadata": {},
   "source": [
    "We will also make a note of some of the key properties of the maps: namely, the $N_{\\rm side}$ parameter defining the resolution of the maps, and the corresponding maximum multipole we can probe with these maps ($\\ell_{\\rm max} = 3 N_{\\rm side} - 1$)."
   ]
  },
  {
   "cell_type": "code",
   "execution_count": 6,
   "id": "d4ad7181",
   "metadata": {},
   "outputs": [],
   "source": [
    "# Already know the maps have Nside = 1024\n",
    "nside = 1024\n",
    "# ... but can check anyway (will return error if not true)\n",
    "assert nside == hp.npix2nside(len(mask_hsc))"
   ]
  },
  {
   "cell_type": "markdown",
   "id": "bbd2f51f",
   "metadata": {},
   "source": [
    "# Computing angular power spectra"
   ]
  },
  {
   "cell_type": "markdown",
   "id": "e595906f",
   "metadata": {},
   "source": [
    "We are interested in how fluctuations in the galaxy density contrast are related to fluctuations in the intensity of the CIB. This can be quantified using angular power spectra (denoted by $C_\\ell$)."
   ]
  },
  {
   "cell_type": "markdown",
   "id": "abbd679f",
   "metadata": {},
   "source": [
    "## Projected fields"
   ]
  },
  {
   "cell_type": "markdown",
   "id": "9a1ddc81",
   "metadata": {},
   "source": [
    "Let $u(\\hat{\\bf n})$ be a cosmological field projected on a sphere, and assume it is the radial projection of a 3D field $U$, i.e. $$u(\\hat{\\bf n}) = \\int d\\chi q_u(\\chi)U(\\chi \\hat{\\bf n}, z) \\tag{1}\\,.$$Here $\\chi$ is the comoving distance, $q_u(\\chi)$ is the radial kernel associated with $u$, and $z$ is the redshift corresponding to $\\chi$.\n",
    "\n",
    "The angular power spectrum of two such quantities, $u$ and $v$, is defined as the covariance between their harmonic-space coefficients, and is related to the power spectrum of the corresponding 3D quantities, $P_{UV}(k,z)$ via $$C_\\ell^{uv} = \\int \\frac{d\\chi}{\\chi^2} q_u(\\chi)q_v(\\chi)P_{UV}\\left( k = \\frac{\\ell + 1/2}{\\chi}, z \\right)\\,.$$ (The above equation assumes the so-called Limber approximation, which is appropriate for the cross-correlations we will consider.)\n",
    "\n",
    "Note that one can also measure the 'auto'-power spectrum by cross-correlating a field $u$ with itself. In this case, $C_\\ell^{uu}$ is the *variance* of the harmonic-space coefficients."
   ]
  },
  {
   "cell_type": "markdown",
   "id": "4fb4c1a6",
   "metadata": {},
   "source": [
    "## Measuring $C_\\ell$ from the data"
   ]
  },
  {
   "cell_type": "markdown",
   "id": "02ad26f6",
   "metadata": {},
   "source": [
    "`NaMaster` is capable of estimating angular power spectra given a set of maps and corresponding masks. The first step is to create `NmtField` objects from these pieces of information, with one `NmtField` per map."
   ]
  },
  {
   "cell_type": "code",
   "execution_count": 7,
   "id": "7e171666",
   "metadata": {},
   "outputs": [],
   "source": [
    "# NmtField for the HSC overdensity maps\n",
    "f_dg = [nmt.NmtField(mask_hsc, [m]) for m in dg_maps]\n",
    "# NmtField for the CIB map\n",
    "f_cib = nmt.NmtField(mask_cib, [cib_map])"
   ]
  },
  {
   "cell_type": "markdown",
   "id": "369b8ce5",
   "metadata": {},
   "source": [
    "Next we need to construct `NmtWorkspace`s for the computation of mode-coupling matrices (denoted by $M_{\\ell\\ell^{\\prime}}$), which describe the coupling of different angular multipoles $\\ell$ induced by the presence of sky masks."
   ]
  },
  {
   "cell_type": "code",
   "execution_count": 8,
   "id": "f3c8bc7c",
   "metadata": {},
   "outputs": [],
   "source": [
    "# Define bandpowers (we will use linearly spaced bins 40 multipoles wide)\n",
    "b = nmt.NmtBin.from_nside_linear(nside, 40)\n",
    "# Create NmtWorkspace\n",
    "wsp_HSC_CIB = nmt.NmtWorkspace.from_fields(f_dg[0], f_cib, b)\n",
    "wsp_HSC_HSC = nmt.NmtWorkspace.from_fields(f_dg[0], f_dg[1], b)\n",
    "wsp_CIB_CIB = nmt.NmtWorkspace.from_fields(f_cib, f_cib, b)"
   ]
  },
  {
   "cell_type": "code",
   "execution_count": 38,
   "id": "6926ad99",
   "metadata": {},
   "outputs": [
    {
     "ename": "AttributeError",
     "evalue": "module 'pymaster.bins' has no attribute 'get_ell_max'",
     "output_type": "error",
     "traceback": [
      "\u001b[31m---------------------------------------------------------------------------\u001b[39m",
      "\u001b[31mAttributeError\u001b[39m                            Traceback (most recent call last)",
      "\u001b[36mCell\u001b[39m\u001b[36m \u001b[39m\u001b[32mIn[38]\u001b[39m\u001b[32m, line 1\u001b[39m\n\u001b[32m----> \u001b[39m\u001b[32m1\u001b[39m \u001b[43mnmt\u001b[49m\u001b[43m.\u001b[49m\u001b[43mbins\u001b[49m\u001b[43m.\u001b[49m\u001b[43mget_ell_max\u001b[49m(b)\n",
      "\u001b[31mAttributeError\u001b[39m: module 'pymaster.bins' has no attribute 'get_ell_max'"
     ]
    }
   ],
   "source": [
    "nmt.bins.get_ell_max(b)"
   ]
  },
  {
   "cell_type": "code",
   "execution_count": 33,
   "id": "49a21267",
   "metadata": {},
   "outputs": [
    {
     "name": "stdout",
     "output_type": "stream",
     "text": [
      "n_ell_large: 3041\n"
     ]
    },
    {
     "data": {
      "image/png": "[encoded data removed]",
      "text/plain": [
       "<Figure size 640x480 with 1 Axes>"
      ]
     },
     "metadata": {},
     "output_type": "display_data"
    }
   ],
   "source": [
    "# Assuimg top hat window functions for the bandpowers - NaMaster only supports top hat windows, so valid\n",
    "\n",
    "n_ell_eff = b.get_effective_ells() \n",
    "n_ell_large = b.get_ell_max(b.get_n_bands() - 1)  # Get the maximum ell for the last bandpower\n",
    "\n",
    "ells_large = np.arange(n_ell_large)\n",
    "\n",
    "print(\"n_ell_large:\", n_ell_large)  \n",
    "window_single = np.zeros([len(n_ell_eff), n_ell_large])\n",
    "for i in range(b.get_n_bands()):\n",
    "    window_single[i, i* 40: (i+1) * 40] = 1.0\n",
    "\n",
    "plt.figure()\n",
    "for w in window_single:\n",
    "    plt.plot(ells_large, w)\n",
    "\n"
   ]
  },
  {
   "cell_type": "markdown",
   "id": "c8943c27",
   "metadata": {},
   "source": [
    "We can now compute our angular power spectra. This is done by first computing a naive estimate directly from the masked fields (the so-called 'coupled $C_\\ell$'), then using the `NmtWorkspace` and its stored mode-coupling matrix to 'decouple' this estimate and convolve it with the bandpower window functions."
   ]
  },
  {
   "cell_type": "code",
   "execution_count": 23,
   "id": "8a03f13b",
   "metadata": {},
   "outputs": [],
   "source": [
    "cells_coupled = []\n",
    "cells = []\n",
    "for i in range(len(f_dg)):\n",
    "    # Coupled estimate for the current HSC map cross-correlated with CIB\n",
    "    cl_coupled = nmt.compute_coupled_cell(f_dg[i], f_cib)\n",
    "    cells_coupled.append(cl_coupled)\n",
    "    # Decoupled estimate\n",
    "    cl = wsp_HSC_CIB.decouple_cell(cl_coupled)\n",
    "    cells.append(cl)\n"
   ]
  },
  {
   "cell_type": "markdown",
   "id": "646619b8",
   "metadata": {},
   "source": [
    "I will now compute the angular power spectra for the auto-correlations"
   ]
  },
  {
   "cell_type": "code",
   "execution_count": 24,
   "id": "7e4d7060",
   "metadata": {},
   "outputs": [],
   "source": [
    "auto_cells_couples = []\n",
    "auto_cells = []\n",
    "for i in range(len(f_dg)):\n",
    "    # Coupled estimate for the auto-correlation of the current HSC map\n",
    "    cl_auto_coupled = nmt.compute_coupled_cell(f_dg[i], f_dg[i])\n",
    "    auto_cells_couples.append(cl_auto_coupled)\n",
    "    # Decoupled estimate\n",
    "    cl_auto = wsp_HSC_HSC.decouple_cell(cl_auto_coupled)\n",
    "    auto_cells.append(cl_auto)\n",
    "\n"
   ]
  },
  {
   "cell_type": "markdown",
   "id": "0ffdf292",
   "metadata": {},
   "source": [
    "## Covariances"
   ]
  },
  {
   "cell_type": "markdown",
   "id": "c8598549",
   "metadata": {},
   "source": [
    "We need `NmtCovarianceWorkspace`s in order to compute the covariances between bandpowers (and thus get the uncertainties on our measurements)."
   ]
  },
  {
   "cell_type": "code",
   "execution_count": 9,
   "id": "28d5ebc1",
   "metadata": {},
   "outputs": [],
   "source": [
    "covwsp = nmt.NmtCovarianceWorkspace()\n",
    "#covwsp.compute_coupling_coefficients(f_dg[0], f_cib)"
   ]
  },
  {
   "cell_type": "markdown",
   "id": "f1575b06",
   "metadata": {},
   "source": [
    "Given a pair of ${C_\\ell}{\\rm s}$ computed for two pairs of fields, $C_\\ell^{i_1i_2}$ and $C_\\ell^{j_1j_2}$, `NaMaster` can compute an estimation of the covariance matrix ${\\rm Cov}(C_\\ell^{i_1i_2}, C_\\ell^{j_1j_2})$ given the following ingredients:\n",
    "- `NmtField`s corresponding to the fields $i_1$, $i_2$, $j_1$ and $j_2$\n",
    "- a reasonable guess of what the true ${C_\\ell \\rm s}$ should be\n",
    "- `NmtWorkspace`s correpsonding to $C_\\ell^{i_1i_2}$ and $C_\\ell^{j_1j_2}$\n",
    "- `NmtCovarianceWorkspace` defined from the fields $i_1$, $i_2$, $j_1$ and $j_2$.\n",
    "\n",
    "This function below is a wrapper gathers these ingredients, estiamtes the true ${C_\\ell \\rm s}$, and then employs `NaMaster`'s covariance estimator to compute and return the covariance matrix."
   ]
  },
  {
   "cell_type": "code",
   "execution_count": 10,
   "id": "856a1354",
   "metadata": {},
   "outputs": [],
   "source": [
    "def compute_covariance(cw, wi, f_i1, f_i2, wj=None, f_j1=None, f_j2=None, f_sky=None):\n",
    "\t'''\n",
    "\tComputes the Gaussian covariance for a pair of angular power spectra,\n",
    "\tgiven the fields used to compute said spectra. \n",
    "\n",
    "\tParameters\n",
    "\t----------\n",
    "\tcw: pymaster.NmtCovarianceWorkspace\n",
    "\t\tCovariance workspace defined with all masks involved.\n",
    "\n",
    "\twi: pymaster.NmtWorkspace\n",
    "\t\tNaMaster workspace defined with the mask involved in the first power spectrum.\n",
    "\t\n",
    "\tf_i1, f_i2: pymaster.NmtField, pymaster.NmtField\n",
    "\t\tFields contributing to the first power spectrum.\n",
    "\t\n",
    "\twj: pymaster.NmtWorkspace\n",
    "\t\tNaMaster workspace defined with the mask involved in the second power spectrum.\n",
    "\t\tIf None, will be set to wi.\n",
    "\t\n",
    "\t\n",
    "\tf_j1, f_j2: pymaster.NmtField, pymaster.NmtField\n",
    "\t\tFields contributing to the second power spectrum. If None, will be set\n",
    "\t\tto f_i1 and f_i2.\n",
    "\t\n",
    "\tf_sky: float\n",
    "\t\tEstimate of the observed sky fraction (assumed the same for all fields).\n",
    "\t\tIf None, will calculate using the mask.\n",
    "\t\n",
    "\tReturns\n",
    "\t-------\n",
    "\tcovar: numpy.ndarray\n",
    "\t\tCovariance matrix for the pair of angular power spectra.\n",
    "\t'''\n",
    "\t#see if additional fields have been provided for the second power spectrum\n",
    "\tif f_j1 is None:\n",
    "\t\tf_j1 = f_i1\n",
    "\tif f_j2 is None:\n",
    "\t\tf_j2 = f_i2\n",
    "\t#see if a separate workspace has been provided\n",
    "\tif wj is None:\n",
    "\t\twj = wi\n",
    "\t\n",
    "\t#if no sky fraction estimate is provided, compute from mask\n",
    "\tif f_sky is None:\n",
    "\t\tf_sky_i1j1 = np.mean(f_i1.get_mask() * f_j1.get_mask())\n",
    "\t\tf_sky_i1j2 = np.mean(f_i1.get_mask() * f_j2.get_mask())\n",
    "\t\tf_sky_i2j1 = np.mean(f_i2.get_mask() * f_j1.get_mask())\n",
    "\t\tf_sky_i2j2 = np.mean(f_i2.get_mask() * f_j2.get_mask())\n",
    "\n",
    "\t\n",
    "\t#compute coupled c_ells for each possible combination of i and j\n",
    "\tcl_coupled_i1j1 = nmt.compute_coupled_cell(f_i1, f_j1)\n",
    "\tcl_coupled_i1j2 = nmt.compute_coupled_cell(f_i1, f_j2)\n",
    "\tcl_coupled_i2j1 = nmt.compute_coupled_cell(f_i2, f_j1)\n",
    "\tcl_coupled_i2j2 = nmt.compute_coupled_cell(f_i2, f_j2)\n",
    "\t#use these along with the mask to get a guess of the true C_ell\n",
    "\tcl_guess_i1j1 = cl_coupled_i1j1 / f_sky_i1j1\n",
    "\tcl_guess_i1j2 = cl_coupled_i1j2 / f_sky_i1j2\n",
    "\tcl_guess_i2j1 = cl_coupled_i2j1 / f_sky_i2j1\n",
    "\tcl_guess_i2j2 = cl_coupled_i2j2 / f_sky_i2j2\n",
    "\n",
    "\n",
    "\tcovar = nmt.gaussian_covariance(cw, \n",
    "\t\t\t\t\t\t\t\t\t0, 0, 0, 0,\t\t\t#spin of each field\n",
    "\t\t\t\t\t\t\t\t\t[cl_guess_i1j1[0]],\t\n",
    "\t\t\t\t\t\t\t\t\t[cl_guess_i1j2[0]],\n",
    "\t\t\t\t\t\t\t\t\t[cl_guess_i2j1[0]],\n",
    "\t\t\t\t\t\t\t\t\t[cl_guess_i2j2[0]],\n",
    "\t\t\t\t\t\t\t\t\twi,\n",
    "\t\t\t\t\t\t\t\t\twj)\n",
    "\n",
    "\treturn covar"
   ]
  },
  {
   "cell_type": "code",
   "execution_count": 11,
   "id": "203a30ae",
   "metadata": {},
   "outputs": [],
   "source": [
    "def covariance_to_correlation(cov):\n",
    "    '''\n",
    "    Converts a covariance matrix to a correlation matrix.\n",
    "    \n",
    "    Parameters\n",
    "    ----------\n",
    "    cov: numpy.ndarray\n",
    "        Covariance matrix to convert.\n",
    "    \n",
    "    Returns\n",
    "    -------\n",
    "    corr: numpy.ndarray\n",
    "        Correlation matrix corresponding to the input covariance matrix.\n",
    "    '''\n",
    "    v = np.sqrt(np.diag(cov))\n",
    "    outer_v = np.outer(v, v)\n",
    "    corr = cov / outer_v\n",
    "    corr[cov  == 0] = 0  # Avoid division by zero\n",
    "    return corr"
   ]
  },
  {
   "cell_type": "code",
   "execution_count": 12,
   "id": "12b0aa2c",
   "metadata": {},
   "outputs": [],
   "source": [
    "maps = [f_dg[0], f_dg[1], f_dg[2], f_dg[3], f_cib]  # List of maps to compute covariance for"
   ]
  },
  {
   "cell_type": "code",
   "execution_count": 40,
   "id": "d873941d",
   "metadata": {},
   "outputs": [
    {
     "ename": "AttributeError",
     "evalue": "'NoneType' object has no attribute 'lmax'",
     "output_type": "error",
     "traceback": [
      "\u001b[31m---------------------------------------------------------------------------\u001b[39m",
      "\u001b[31mAttributeError\u001b[39m                            Traceback (most recent call last)",
      "\u001b[36mCell\u001b[39m\u001b[36m \u001b[39m\u001b[32mIn[40]\u001b[39m\u001b[32m, line 12\u001b[39m\n\u001b[32m      9\u001b[39m \u001b[38;5;28;01mif\u001b[39;00m i == j:\n\u001b[32m     10\u001b[39m     \u001b[38;5;28;01mif\u001b[39;00m i < \u001b[32m4\u001b[39m:\n\u001b[32m     11\u001b[39m         \u001b[38;5;66;03m# Auto-correlation for HSC maps\u001b[39;00m\n\u001b[32m---> \u001b[39m\u001b[32m12\u001b[39m         current_row.append(\u001b[43mcompute_covariance\u001b[49m\u001b[43m(\u001b[49m\u001b[43mcovwsp\u001b[49m\u001b[43m,\u001b[49m\u001b[43m \u001b[49m\u001b[43mwsp_HSC_HSC\u001b[49m\u001b[43m,\u001b[49m\u001b[43m \u001b[49m\u001b[43mmaps\u001b[49m\u001b[43m[\u001b[49m\u001b[43mi\u001b[49m\u001b[43m]\u001b[49m\u001b[43m,\u001b[49m\u001b[43m \u001b[49m\u001b[43mmaps\u001b[49m\u001b[43m[\u001b[49m\u001b[43mj\u001b[49m\u001b[43m]\u001b[49m\u001b[43m)\u001b[49m)\n\u001b[32m     13\u001b[39m     \u001b[38;5;28;01mif\u001b[39;00m i == \u001b[32m4\u001b[39m:\n\u001b[32m     14\u001b[39m         \u001b[38;5;28;01mpass\u001b[39;00m\n",
      "\u001b[36mCell\u001b[39m\u001b[36m \u001b[39m\u001b[32mIn[10]\u001b[39m\u001b[32m, line 64\u001b[39m, in \u001b[36mcompute_covariance\u001b[39m\u001b[34m(cw, wi, f_i1, f_i2, wj, f_j1, f_j2, f_sky)\u001b[39m\n\u001b[32m     60\u001b[39m cl_guess_i2j1 = cl_coupled_i2j1 / f_sky_i2j1\n\u001b[32m     61\u001b[39m cl_guess_i2j2 = cl_coupled_i2j2 / f_sky_i2j2\n\u001b[32m---> \u001b[39m\u001b[32m64\u001b[39m covar = \u001b[43mnmt\u001b[49m\u001b[43m.\u001b[49m\u001b[43mgaussian_covariance\u001b[49m\u001b[43m(\u001b[49m\u001b[43mcw\u001b[49m\u001b[43m,\u001b[49m\u001b[43m \u001b[49m\n\u001b[32m     65\u001b[39m \u001b[43m\t\t\t\t\t\t\t\t\u001b[49m\u001b[32;43m0\u001b[39;49m\u001b[43m,\u001b[49m\u001b[43m \u001b[49m\u001b[32;43m0\u001b[39;49m\u001b[43m,\u001b[49m\u001b[43m \u001b[49m\u001b[32;43m0\u001b[39;49m\u001b[43m,\u001b[49m\u001b[43m \u001b[49m\u001b[32;43m0\u001b[39;49m\u001b[43m,\u001b[49m\u001b[43m\t\t\t\u001b[49m\u001b[38;5;66;43;03m#spin of each field\u001b[39;49;00m\n\u001b[32m     66\u001b[39m \u001b[43m\t\t\t\t\t\t\t\t\u001b[49m\u001b[43m[\u001b[49m\u001b[43mcl_guess_i1j1\u001b[49m\u001b[43m[\u001b[49m\u001b[32;43m0\u001b[39;49m\u001b[43m]\u001b[49m\u001b[43m]\u001b[49m\u001b[43m,\u001b[49m\u001b[43m\t\u001b[49m\n\u001b[32m     67\u001b[39m \u001b[43m\t\t\t\t\t\t\t\t\u001b[49m\u001b[43m[\u001b[49m\u001b[43mcl_guess_i1j2\u001b[49m\u001b[43m[\u001b[49m\u001b[32;43m0\u001b[39;49m\u001b[43m]\u001b[49m\u001b[43m]\u001b[49m\u001b[43m,\u001b[49m\n\u001b[32m     68\u001b[39m \u001b[43m\t\t\t\t\t\t\t\t\u001b[49m\u001b[43m[\u001b[49m\u001b[43mcl_guess_i2j1\u001b[49m\u001b[43m[\u001b[49m\u001b[32;43m0\u001b[39;49m\u001b[43m]\u001b[49m\u001b[43m]\u001b[49m\u001b[43m,\u001b[49m\n\u001b[32m     69\u001b[39m \u001b[43m\t\t\t\t\t\t\t\t\u001b[49m\u001b[43m[\u001b[49m\u001b[43mcl_guess_i2j2\u001b[49m\u001b[43m[\u001b[49m\u001b[32;43m0\u001b[39;49m\u001b[43m]\u001b[49m\u001b[43m]\u001b[49m\u001b[43m,\u001b[49m\n\u001b[32m     70\u001b[39m \u001b[43m\t\t\t\t\t\t\t\t\u001b[49m\u001b[43mwi\u001b[49m\u001b[43m,\u001b[49m\n\u001b[32m     71\u001b[39m \u001b[43m\t\t\t\t\t\t\t\t\u001b[49m\u001b[43mwj\u001b[49m\u001b[43m)\u001b[49m\n\u001b[32m     73\u001b[39m \u001b[38;5;28;01mreturn\u001b[39;00m covar\n",
      "\u001b[36mFile \u001b[39m\u001b[32m~/miniconda3/envs/Cosmo1/lib/python3.13/site-packages/pymaster/covariance.py:426\u001b[39m, in \u001b[36mgaussian_covariance\u001b[39m\u001b[34m(cw, spin_a1, spin_a2, spin_b1, spin_b2, cla1b1, cla1b2, cla2b1, cla2b2, wa, wb, coupled)\u001b[39m\n\u001b[32m    419\u001b[39m \u001b[38;5;28;01mif\u001b[39;00m (\u001b[38;5;28mlen\u001b[39m(cla1b1) != nm_a1*nm_b1) \u001b[38;5;129;01mor\u001b[39;00m \\\n\u001b[32m    420\u001b[39m    (\u001b[38;5;28mlen\u001b[39m(cla1b2) != nm_a1*nm_b2) \u001b[38;5;129;01mor\u001b[39;00m \\\n\u001b[32m    421\u001b[39m    (\u001b[38;5;28mlen\u001b[39m(cla2b1) != nm_a2*nm_b1) \u001b[38;5;129;01mor\u001b[39;00m \\\n\u001b[32m    422\u001b[39m    (\u001b[38;5;28mlen\u001b[39m(cla2b2) != nm_a2*nm_b2):\n\u001b[32m    423\u001b[39m     \u001b[38;5;28;01mraise\u001b[39;00m \u001b[38;5;167;01mValueError\u001b[39;00m(\u001b[33m\"\u001b[39m\u001b[33mInput spins do not match input power\u001b[39m\u001b[33m\"\u001b[39m\n\u001b[32m    424\u001b[39m                      \u001b[33m\"\u001b[39m\u001b[33mspectrum shapes\u001b[39m\u001b[33m\"\u001b[39m)\n\u001b[32m--> \u001b[39m\u001b[32m426\u001b[39m \u001b[38;5;28;01mif\u001b[39;00m (\u001b[38;5;28mlen\u001b[39m(cla1b1[\u001b[32m0\u001b[39m]) < \u001b[43mcw\u001b[49m\u001b[43m.\u001b[49m\u001b[43mwsp\u001b[49m\u001b[43m.\u001b[49m\u001b[43mlmax\u001b[49m + \u001b[32m1\u001b[39m) \u001b[38;5;129;01mor\u001b[39;00m \\\n\u001b[32m    427\u001b[39m    (\u001b[38;5;28mlen\u001b[39m(cla1b2[\u001b[32m0\u001b[39m]) < cw.wsp.lmax + \u001b[32m1\u001b[39m) \u001b[38;5;129;01mor\u001b[39;00m \\\n\u001b[32m    428\u001b[39m    (\u001b[38;5;28mlen\u001b[39m(cla2b1[\u001b[32m0\u001b[39m]) < cw.wsp.lmax + \u001b[32m1\u001b[39m) \u001b[38;5;129;01mor\u001b[39;00m \\\n\u001b[32m    429\u001b[39m    (\u001b[38;5;28mlen\u001b[39m(cla2b2[\u001b[32m0\u001b[39m]) < cw.wsp.lmax + \u001b[32m1\u001b[39m):\n\u001b[32m    430\u001b[39m     \u001b[38;5;28;01mraise\u001b[39;00m \u001b[38;5;167;01mValueError\u001b[39;00m(\u001b[33m\"\u001b[39m\u001b[33mInput C_ls have a weird length. \u001b[39m\u001b[33m\"\u001b[39m\n\u001b[32m    431\u001b[39m                      \u001b[33mf\u001b[39m\u001b[33m\"\u001b[39m\u001b[33mExpected \u001b[39m\u001b[38;5;132;01m{\u001b[39;00mcw.wsp.lmax+\u001b[32m1\u001b[39m\u001b[38;5;132;01m}\u001b[39;00m\u001b[33m, but got \u001b[39m\u001b[33m\"\u001b[39m\n\u001b[32m    432\u001b[39m                      \u001b[33mf\u001b[39m\u001b[33m\"\u001b[39m\u001b[33m(\u001b[39m\u001b[38;5;132;01m{\u001b[39;00m\u001b[38;5;28mlen\u001b[39m(cla1b1[\u001b[32m0\u001b[39m])\u001b[38;5;132;01m}\u001b[39;00m\u001b[33m, \u001b[39m\u001b[38;5;132;01m{\u001b[39;00m\u001b[38;5;28mlen\u001b[39m(cla1b2[\u001b[32m0\u001b[39m])\u001b[38;5;132;01m}\u001b[39;00m\u001b[33m, \u001b[39m\u001b[33m\"\u001b[39m\n\u001b[32m    433\u001b[39m                      \u001b[33mf\u001b[39m\u001b[33m\"\u001b[39m\u001b[38;5;132;01m{\u001b[39;00m\u001b[38;5;28mlen\u001b[39m(cla2b1[\u001b[32m0\u001b[39m])\u001b[38;5;132;01m}\u001b[39;00m\u001b[33m, \u001b[39m\u001b[38;5;132;01m{\u001b[39;00m\u001b[38;5;28mlen\u001b[39m(cla2b2[\u001b[32m0\u001b[39m])\u001b[38;5;132;01m}\u001b[39;00m\u001b[33m).\u001b[39m\u001b[33m\"\u001b[39m)\n\u001b[32m    435\u001b[39m \u001b[38;5;28;01mif\u001b[39;00m coupled:\n",
      "\u001b[31mAttributeError\u001b[39m: 'NoneType' object has no attribute 'lmax'"
     ]
    }
   ],
   "source": [
    "# Computation of covariance matrix algorithm \n",
    "\n",
    "block_matrix_rows = []\n",
    "\n",
    "\n",
    "for i in range(len(maps)):\n",
    "    current_row = []\n",
    "    for j in range(len(maps)):\n",
    "        if i == j:\n",
    "            if i < 4:\n",
    "                # Auto-correlation for HSC maps\n",
    "                current_row.append(compute_covariance(covwsp, wsp_HSC_HSC, maps[i], maps[j]))\n",
    "            if i == 4:\n",
    "                pass\n",
    "                # Auto-correlation for CIB map\n",
    "                current_row.append(compute_covariance(covwsp, wsp_CIB_CIB, maps[i], maps[j]))\n",
    "        else:\n",
    "            # Cross-correlation\n",
    "            if i == 4:\n",
    "                # CIB map cross-correlated with HSC maps\n",
    "                pass\n",
    "                current_row.append(compute_covariance(covwsp, wsp_HSC_CIB, maps[i], maps[j]))\n",
    "            if j == 4:\n",
    "                # HSC maps cross-correlated with CIB map\n",
    "                pass\n",
    "                current_row.append(compute_covariance(covwsp, wsp_HSC_CIB, maps[j], maps[i]))\n",
    "            if i < 4 and j < 4:\n",
    "                # HSC maps cross-correlated with each other\n",
    "                current_row.append(compute_covariance(covwsp, wsp_HSC_HSC, maps[i], maps[j]))\n",
    "        \n",
    "    block_matrix_rows.append(current_row)\n",
    "    \n",
    "    \n",
    "        \n",
    "flattened_covariance = np.block(block_matrix_rows)  # Flatten the covariance matrix to a 2D array\n",
    "\n",
    "#print(\"Shape of flattened covariance matrix:\", flattened_covariance.shape)\n",
    "\n",
    "# Correlation matrix\n",
    "\n",
    "correlation_matrix = covariance_to_correlation(flattened_covariance) - np.eye(flattened_covariance.shape[0])  # Remove the diagonal to focus on correlations\n",
    "\n",
    "plt.figure(figsize=(40, 32))\n",
    "plt.matshow(correlation_matrix, cmap='viridis', norm=SymLogNorm(linthresh=1e-3))\n",
    "\n",
    "\n",
    "\n",
    "\n",
    "# Set the x and y ticks to match the bin names\n",
    "bin_names = ['HSC zbin 0', 'HSC zbin 1', 'HSC zbin 2', 'HSC zbin 3']\n",
    "n_ell_band = b.get_n_bands()\n",
    "\n",
    "tick_positions = np.arange(len(bin_names)) * n_ell_band + n_ell_band // 2\n",
    "plt.xticks(ticks=tick_positions, labels=bin_names, rotation=45)\n",
    "plt.yticks(ticks=tick_positions, labels=bin_names)\n",
    "\n",
    "# add grid lines for better readability\n",
    "grid_positions = np.arange(len(bin_names) + 1) * n_ell_band - 0.5\n",
    "plt.grid(which='both',color = 'white', linestyle='-', linewidth=0.5, alpha=0.5)\n",
    "plt.gca().set_xticks(grid_positions, minor=True)\n",
    "plt.gca().set_yticks(grid_positions, minor=True)\n",
    "plt.gca().tick_params(which='minor', length=0)\n",
    "plt.grid(which='major', visible=False)\n",
    "\n",
    "plt.colorbar(label='Correlation Coefficient')\n",
    "plt.title('Correlation Matrix of Angular Power Spectra')\n",
    "\n",
    "print (grid_positions)"
   ]
  },
  {
   "cell_type": "markdown",
   "id": "7d05439b",
   "metadata": {},
   "source": [
    "Here we are mostly interested in the errors on our ${C_\\ell}{\\rm s}$, which can be obtained in two steps:\n",
    "- compute ${\\rm Cov}(C_\\ell^{\\delta_i \\times {\\rm CIB}}, C_\\ell^{\\delta_i \\times {\\rm CIB}})$ where $\\delta_i$ is the density contrast map for the $i$th redshift bin\n",
    "- take the square root of the diagonal of the covariance matrix: $\\sigma_\\ell = \\sqrt{{\\rm diag}({\\rm Cov})}$"
   ]
  },
  {
   "cell_type": "code",
   "execution_count": 39,
   "id": "8cd5c43b",
   "metadata": {},
   "outputs": [
    {
     "ename": "AttributeError",
     "evalue": "'NoneType' object has no attribute 'lmax'",
     "output_type": "error",
     "traceback": [
      "\u001b[31m---------------------------------------------------------------------------\u001b[39m",
      "\u001b[31mAttributeError\u001b[39m                            Traceback (most recent call last)",
      "\u001b[36mCell\u001b[39m\u001b[36m \u001b[39m\u001b[32mIn[39]\u001b[39m\u001b[32m, line 1\u001b[39m\n\u001b[32m----> \u001b[39m\u001b[32m1\u001b[39m \u001b[43mcompute_covariance\u001b[49m\u001b[43m(\u001b[49m\u001b[43mcovwsp\u001b[49m\u001b[43m,\u001b[49m\u001b[43m \u001b[49m\u001b[43mwsp_HSC_CIB\u001b[49m\u001b[43m,\u001b[49m\u001b[43m \u001b[49m\u001b[43mf_dg\u001b[49m\u001b[43m[\u001b[49m\u001b[32;43m0\u001b[39;49m\u001b[43m]\u001b[49m\u001b[43m,\u001b[49m\u001b[43m \u001b[49m\u001b[43mf_cib\u001b[49m\u001b[43m)\u001b[49m\n",
      "\u001b[36mCell\u001b[39m\u001b[36m \u001b[39m\u001b[32mIn[10]\u001b[39m\u001b[32m, line 64\u001b[39m, in \u001b[36mcompute_covariance\u001b[39m\u001b[34m(cw, wi, f_i1, f_i2, wj, f_j1, f_j2, f_sky)\u001b[39m\n\u001b[32m     60\u001b[39m cl_guess_i2j1 = cl_coupled_i2j1 / f_sky_i2j1\n\u001b[32m     61\u001b[39m cl_guess_i2j2 = cl_coupled_i2j2 / f_sky_i2j2\n\u001b[32m---> \u001b[39m\u001b[32m64\u001b[39m covar = \u001b[43mnmt\u001b[49m\u001b[43m.\u001b[49m\u001b[43mgaussian_covariance\u001b[49m\u001b[43m(\u001b[49m\u001b[43mcw\u001b[49m\u001b[43m,\u001b[49m\u001b[43m \u001b[49m\n\u001b[32m     65\u001b[39m \u001b[43m\t\t\t\t\t\t\t\t\u001b[49m\u001b[32;43m0\u001b[39;49m\u001b[43m,\u001b[49m\u001b[43m \u001b[49m\u001b[32;43m0\u001b[39;49m\u001b[43m,\u001b[49m\u001b[43m \u001b[49m\u001b[32;43m0\u001b[39;49m\u001b[43m,\u001b[49m\u001b[43m \u001b[49m\u001b[32;43m0\u001b[39;49m\u001b[43m,\u001b[49m\u001b[43m\t\t\t\u001b[49m\u001b[38;5;66;43;03m#spin of each field\u001b[39;49;00m\n\u001b[32m     66\u001b[39m \u001b[43m\t\t\t\t\t\t\t\t\u001b[49m\u001b[43m[\u001b[49m\u001b[43mcl_guess_i1j1\u001b[49m\u001b[43m[\u001b[49m\u001b[32;43m0\u001b[39;49m\u001b[43m]\u001b[49m\u001b[43m]\u001b[49m\u001b[43m,\u001b[49m\u001b[43m\t\u001b[49m\n\u001b[32m     67\u001b[39m \u001b[43m\t\t\t\t\t\t\t\t\u001b[49m\u001b[43m[\u001b[49m\u001b[43mcl_guess_i1j2\u001b[49m\u001b[43m[\u001b[49m\u001b[32;43m0\u001b[39;49m\u001b[43m]\u001b[49m\u001b[43m]\u001b[49m\u001b[43m,\u001b[49m\n\u001b[32m     68\u001b[39m \u001b[43m\t\t\t\t\t\t\t\t\u001b[49m\u001b[43m[\u001b[49m\u001b[43mcl_guess_i2j1\u001b[49m\u001b[43m[\u001b[49m\u001b[32;43m0\u001b[39;49m\u001b[43m]\u001b[49m\u001b[43m]\u001b[49m\u001b[43m,\u001b[49m\n\u001b[32m     69\u001b[39m \u001b[43m\t\t\t\t\t\t\t\t\u001b[49m\u001b[43m[\u001b[49m\u001b[43mcl_guess_i2j2\u001b[49m\u001b[43m[\u001b[49m\u001b[32;43m0\u001b[39;49m\u001b[43m]\u001b[49m\u001b[43m]\u001b[49m\u001b[43m,\u001b[49m\n\u001b[32m     70\u001b[39m \u001b[43m\t\t\t\t\t\t\t\t\u001b[49m\u001b[43mwi\u001b[49m\u001b[43m,\u001b[49m\n\u001b[32m     71\u001b[39m \u001b[43m\t\t\t\t\t\t\t\t\u001b[49m\u001b[43mwj\u001b[49m\u001b[43m)\u001b[49m\n\u001b[32m     73\u001b[39m \u001b[38;5;28;01mreturn\u001b[39;00m covar\n",
      "\u001b[36mFile \u001b[39m\u001b[32m~/miniconda3/envs/Cosmo1/lib/python3.13/site-packages/pymaster/covariance.py:426\u001b[39m, in \u001b[36mgaussian_covariance\u001b[39m\u001b[34m(cw, spin_a1, spin_a2, spin_b1, spin_b2, cla1b1, cla1b2, cla2b1, cla2b2, wa, wb, coupled)\u001b[39m\n\u001b[32m    419\u001b[39m \u001b[38;5;28;01mif\u001b[39;00m (\u001b[38;5;28mlen\u001b[39m(cla1b1) != nm_a1*nm_b1) \u001b[38;5;129;01mor\u001b[39;00m \\\n\u001b[32m    420\u001b[39m    (\u001b[38;5;28mlen\u001b[39m(cla1b2) != nm_a1*nm_b2) \u001b[38;5;129;01mor\u001b[39;00m \\\n\u001b[32m    421\u001b[39m    (\u001b[38;5;28mlen\u001b[39m(cla2b1) != nm_a2*nm_b1) \u001b[38;5;129;01mor\u001b[39;00m \\\n\u001b[32m    422\u001b[39m    (\u001b[38;5;28mlen\u001b[39m(cla2b2) != nm_a2*nm_b2):\n\u001b[32m    423\u001b[39m     \u001b[38;5;28;01mraise\u001b[39;00m \u001b[38;5;167;01mValueError\u001b[39;00m(\u001b[33m\"\u001b[39m\u001b[33mInput spins do not match input power\u001b[39m\u001b[33m\"\u001b[39m\n\u001b[32m    424\u001b[39m                      \u001b[33m\"\u001b[39m\u001b[33mspectrum shapes\u001b[39m\u001b[33m\"\u001b[39m)\n\u001b[32m--> \u001b[39m\u001b[32m426\u001b[39m \u001b[38;5;28;01mif\u001b[39;00m (\u001b[38;5;28mlen\u001b[39m(cla1b1[\u001b[32m0\u001b[39m]) < \u001b[43mcw\u001b[49m\u001b[43m.\u001b[49m\u001b[43mwsp\u001b[49m\u001b[43m.\u001b[49m\u001b[43mlmax\u001b[49m + \u001b[32m1\u001b[39m) \u001b[38;5;129;01mor\u001b[39;00m \\\n\u001b[32m    427\u001b[39m    (\u001b[38;5;28mlen\u001b[39m(cla1b2[\u001b[32m0\u001b[39m]) < cw.wsp.lmax + \u001b[32m1\u001b[39m) \u001b[38;5;129;01mor\u001b[39;00m \\\n\u001b[32m    428\u001b[39m    (\u001b[38;5;28mlen\u001b[39m(cla2b1[\u001b[32m0\u001b[39m]) < cw.wsp.lmax + \u001b[32m1\u001b[39m) \u001b[38;5;129;01mor\u001b[39;00m \\\n\u001b[32m    429\u001b[39m    (\u001b[38;5;28mlen\u001b[39m(cla2b2[\u001b[32m0\u001b[39m]) < cw.wsp.lmax + \u001b[32m1\u001b[39m):\n\u001b[32m    430\u001b[39m     \u001b[38;5;28;01mraise\u001b[39;00m \u001b[38;5;167;01mValueError\u001b[39;00m(\u001b[33m\"\u001b[39m\u001b[33mInput C_ls have a weird length. \u001b[39m\u001b[33m\"\u001b[39m\n\u001b[32m    431\u001b[39m                      \u001b[33mf\u001b[39m\u001b[33m\"\u001b[39m\u001b[33mExpected \u001b[39m\u001b[38;5;132;01m{\u001b[39;00mcw.wsp.lmax+\u001b[32m1\u001b[39m\u001b[38;5;132;01m}\u001b[39;00m\u001b[33m, but got \u001b[39m\u001b[33m\"\u001b[39m\n\u001b[32m    432\u001b[39m                      \u001b[33mf\u001b[39m\u001b[33m\"\u001b[39m\u001b[33m(\u001b[39m\u001b[38;5;132;01m{\u001b[39;00m\u001b[38;5;28mlen\u001b[39m(cla1b1[\u001b[32m0\u001b[39m])\u001b[38;5;132;01m}\u001b[39;00m\u001b[33m, \u001b[39m\u001b[38;5;132;01m{\u001b[39;00m\u001b[38;5;28mlen\u001b[39m(cla1b2[\u001b[32m0\u001b[39m])\u001b[38;5;132;01m}\u001b[39;00m\u001b[33m, \u001b[39m\u001b[33m\"\u001b[39m\n\u001b[32m    433\u001b[39m                      \u001b[33mf\u001b[39m\u001b[33m\"\u001b[39m\u001b[38;5;132;01m{\u001b[39;00m\u001b[38;5;28mlen\u001b[39m(cla2b1[\u001b[32m0\u001b[39m])\u001b[38;5;132;01m}\u001b[39;00m\u001b[33m, \u001b[39m\u001b[38;5;132;01m{\u001b[39;00m\u001b[38;5;28mlen\u001b[39m(cla2b2[\u001b[32m0\u001b[39m])\u001b[38;5;132;01m}\u001b[39;00m\u001b[33m).\u001b[39m\u001b[33m\"\u001b[39m)\n\u001b[32m    435\u001b[39m \u001b[38;5;28;01mif\u001b[39;00m coupled:\n",
      "\u001b[31mAttributeError\u001b[39m: 'NoneType' object has no attribute 'lmax'"
     ]
    }
   ],
   "source": [
    "compute_covariance(covwsp, wsp_HSC_CIB, f_dg[0], f_cib)"
   ]
  },
  {
   "cell_type": "code",
   "execution_count": 34,
   "id": "195b6e61",
   "metadata": {},
   "outputs": [
    {
     "ename": "AttributeError",
     "evalue": "'NoneType' object has no attribute 'lmax'",
     "output_type": "error",
     "traceback": [
      "\u001b[31m---------------------------------------------------------------------------\u001b[39m",
      "\u001b[31mAttributeError\u001b[39m                            Traceback (most recent call last)",
      "\u001b[36mCell\u001b[39m\u001b[36m \u001b[39m\u001b[32mIn[34]\u001b[39m\u001b[32m, line 5\u001b[39m\n\u001b[32m      3\u001b[39m err_cells = []\n\u001b[32m      4\u001b[39m \u001b[38;5;28;01mfor\u001b[39;00m i \u001b[38;5;129;01min\u001b[39;00m \u001b[38;5;28mrange\u001b[39m(\u001b[38;5;28mlen\u001b[39m(cells)-\u001b[32m1\u001b[39m):\n\u001b[32m----> \u001b[39m\u001b[32m5\u001b[39m     cov = \u001b[43mcompute_covariance\u001b[49m\u001b[43m(\u001b[49m\n\u001b[32m      6\u001b[39m \u001b[43m        \u001b[49m\u001b[43mcovwsp\u001b[49m\u001b[43m,\u001b[49m\n\u001b[32m      7\u001b[39m \u001b[43m        \u001b[49m\u001b[43mwsp_HSC_HSC\u001b[49m\u001b[43m,\u001b[49m\n\u001b[32m      8\u001b[39m \u001b[43m        \u001b[49m\u001b[43mf_dg\u001b[49m\u001b[43m[\u001b[49m\u001b[43mi\u001b[49m\u001b[43m]\u001b[49m\u001b[43m,\u001b[49m\n\u001b[32m      9\u001b[39m \u001b[43m        \u001b[49m\u001b[43mf_dg\u001b[49m\u001b[43m[\u001b[49m\u001b[43mi\u001b[49m\u001b[43m]\u001b[49m\u001b[43m,\u001b[49m\n\u001b[32m     10\u001b[39m \n\u001b[32m     11\u001b[39m \u001b[43m    \u001b[49m\u001b[43m)\u001b[49m\n\u001b[32m     13\u001b[39m     correlation_matrix = covariance_to_correlation(cov)\n\u001b[32m     14\u001b[39m     plt.matshow(correlation_matrix, cmap=\u001b[33m'\u001b[39m\u001b[33mviridis\u001b[39m\u001b[33m'\u001b[39m, norm=SymLogNorm(linthresh=\u001b[32m1e-3\u001b[39m))\n",
      "\u001b[36mCell\u001b[39m\u001b[36m \u001b[39m\u001b[32mIn[10]\u001b[39m\u001b[32m, line 64\u001b[39m, in \u001b[36mcompute_covariance\u001b[39m\u001b[34m(cw, wi, f_i1, f_i2, wj, f_j1, f_j2, f_sky)\u001b[39m\n\u001b[32m     60\u001b[39m cl_guess_i2j1 = cl_coupled_i2j1 / f_sky_i2j1\n\u001b[32m     61\u001b[39m cl_guess_i2j2 = cl_coupled_i2j2 / f_sky_i2j2\n\u001b[32m---> \u001b[39m\u001b[32m64\u001b[39m covar = \u001b[43mnmt\u001b[49m\u001b[43m.\u001b[49m\u001b[43mgaussian_covariance\u001b[49m\u001b[43m(\u001b[49m\u001b[43mcw\u001b[49m\u001b[43m,\u001b[49m\u001b[43m \u001b[49m\n\u001b[32m     65\u001b[39m \u001b[43m\t\t\t\t\t\t\t\t\u001b[49m\u001b[32;43m0\u001b[39;49m\u001b[43m,\u001b[49m\u001b[43m \u001b[49m\u001b[32;43m0\u001b[39;49m\u001b[43m,\u001b[49m\u001b[43m \u001b[49m\u001b[32;43m0\u001b[39;49m\u001b[43m,\u001b[49m\u001b[43m \u001b[49m\u001b[32;43m0\u001b[39;49m\u001b[43m,\u001b[49m\u001b[43m\t\t\t\u001b[49m\u001b[38;5;66;43;03m#spin of each field\u001b[39;49;00m\n\u001b[32m     66\u001b[39m \u001b[43m\t\t\t\t\t\t\t\t\u001b[49m\u001b[43m[\u001b[49m\u001b[43mcl_guess_i1j1\u001b[49m\u001b[43m[\u001b[49m\u001b[32;43m0\u001b[39;49m\u001b[43m]\u001b[49m\u001b[43m]\u001b[49m\u001b[43m,\u001b[49m\u001b[43m\t\u001b[49m\n\u001b[32m     67\u001b[39m \u001b[43m\t\t\t\t\t\t\t\t\u001b[49m\u001b[43m[\u001b[49m\u001b[43mcl_guess_i1j2\u001b[49m\u001b[43m[\u001b[49m\u001b[32;43m0\u001b[39;49m\u001b[43m]\u001b[49m\u001b[43m]\u001b[49m\u001b[43m,\u001b[49m\n\u001b[32m     68\u001b[39m \u001b[43m\t\t\t\t\t\t\t\t\u001b[49m\u001b[43m[\u001b[49m\u001b[43mcl_guess_i2j1\u001b[49m\u001b[43m[\u001b[49m\u001b[32;43m0\u001b[39;49m\u001b[43m]\u001b[49m\u001b[43m]\u001b[49m\u001b[43m,\u001b[49m\n\u001b[32m     69\u001b[39m \u001b[43m\t\t\t\t\t\t\t\t\u001b[49m\u001b[43m[\u001b[49m\u001b[43mcl_guess_i2j2\u001b[49m\u001b[43m[\u001b[49m\u001b[32;43m0\u001b[39;49m\u001b[43m]\u001b[49m\u001b[43m]\u001b[49m\u001b[43m,\u001b[49m\n\u001b[32m     70\u001b[39m \u001b[43m\t\t\t\t\t\t\t\t\u001b[49m\u001b[43mwi\u001b[49m\u001b[43m,\u001b[49m\n\u001b[32m     71\u001b[39m \u001b[43m\t\t\t\t\t\t\t\t\u001b[49m\u001b[43mwj\u001b[49m\u001b[43m)\u001b[49m\n\u001b[32m     73\u001b[39m \u001b[38;5;28;01mreturn\u001b[39;00m covar\n",
      "\u001b[36mFile \u001b[39m\u001b[32m~/miniconda3/envs/Cosmo1/lib/python3.13/site-packages/pymaster/covariance.py:426\u001b[39m, in \u001b[36mgaussian_covariance\u001b[39m\u001b[34m(cw, spin_a1, spin_a2, spin_b1, spin_b2, cla1b1, cla1b2, cla2b1, cla2b2, wa, wb, coupled)\u001b[39m\n\u001b[32m    419\u001b[39m \u001b[38;5;28;01mif\u001b[39;00m (\u001b[38;5;28mlen\u001b[39m(cla1b1) != nm_a1*nm_b1) \u001b[38;5;129;01mor\u001b[39;00m \\\n\u001b[32m    420\u001b[39m    (\u001b[38;5;28mlen\u001b[39m(cla1b2) != nm_a1*nm_b2) \u001b[38;5;129;01mor\u001b[39;00m \\\n\u001b[32m    421\u001b[39m    (\u001b[38;5;28mlen\u001b[39m(cla2b1) != nm_a2*nm_b1) \u001b[38;5;129;01mor\u001b[39;00m \\\n\u001b[32m    422\u001b[39m    (\u001b[38;5;28mlen\u001b[39m(cla2b2) != nm_a2*nm_b2):\n\u001b[32m    423\u001b[39m     \u001b[38;5;28;01mraise\u001b[39;00m \u001b[38;5;167;01mValueError\u001b[39;00m(\u001b[33m\"\u001b[39m\u001b[33mInput spins do not match input power\u001b[39m\u001b[33m\"\u001b[39m\n\u001b[32m    424\u001b[39m                      \u001b[33m\"\u001b[39m\u001b[33mspectrum shapes\u001b[39m\u001b[33m\"\u001b[39m)\n\u001b[32m--> \u001b[39m\u001b[32m426\u001b[39m \u001b[38;5;28;01mif\u001b[39;00m (\u001b[38;5;28mlen\u001b[39m(cla1b1[\u001b[32m0\u001b[39m]) < \u001b[43mcw\u001b[49m\u001b[43m.\u001b[49m\u001b[43mwsp\u001b[49m\u001b[43m.\u001b[49m\u001b[43mlmax\u001b[49m + \u001b[32m1\u001b[39m) \u001b[38;5;129;01mor\u001b[39;00m \\\n\u001b[32m    427\u001b[39m    (\u001b[38;5;28mlen\u001b[39m(cla1b2[\u001b[32m0\u001b[39m]) < cw.wsp.lmax + \u001b[32m1\u001b[39m) \u001b[38;5;129;01mor\u001b[39;00m \\\n\u001b[32m    428\u001b[39m    (\u001b[38;5;28mlen\u001b[39m(cla2b1[\u001b[32m0\u001b[39m]) < cw.wsp.lmax + \u001b[32m1\u001b[39m) \u001b[38;5;129;01mor\u001b[39;00m \\\n\u001b[32m    429\u001b[39m    (\u001b[38;5;28mlen\u001b[39m(cla2b2[\u001b[32m0\u001b[39m]) < cw.wsp.lmax + \u001b[32m1\u001b[39m):\n\u001b[32m    430\u001b[39m     \u001b[38;5;28;01mraise\u001b[39;00m \u001b[38;5;167;01mValueError\u001b[39;00m(\u001b[33m\"\u001b[39m\u001b[33mInput C_ls have a weird length. \u001b[39m\u001b[33m\"\u001b[39m\n\u001b[32m    431\u001b[39m                      \u001b[33mf\u001b[39m\u001b[33m\"\u001b[39m\u001b[33mExpected \u001b[39m\u001b[38;5;132;01m{\u001b[39;00mcw.wsp.lmax+\u001b[32m1\u001b[39m\u001b[38;5;132;01m}\u001b[39;00m\u001b[33m, but got \u001b[39m\u001b[33m\"\u001b[39m\n\u001b[32m    432\u001b[39m                      \u001b[33mf\u001b[39m\u001b[33m\"\u001b[39m\u001b[33m(\u001b[39m\u001b[38;5;132;01m{\u001b[39;00m\u001b[38;5;28mlen\u001b[39m(cla1b1[\u001b[32m0\u001b[39m])\u001b[38;5;132;01m}\u001b[39;00m\u001b[33m, \u001b[39m\u001b[38;5;132;01m{\u001b[39;00m\u001b[38;5;28mlen\u001b[39m(cla1b2[\u001b[32m0\u001b[39m])\u001b[38;5;132;01m}\u001b[39;00m\u001b[33m, \u001b[39m\u001b[33m\"\u001b[39m\n\u001b[32m    433\u001b[39m                      \u001b[33mf\u001b[39m\u001b[33m\"\u001b[39m\u001b[38;5;132;01m{\u001b[39;00m\u001b[38;5;28mlen\u001b[39m(cla2b1[\u001b[32m0\u001b[39m])\u001b[38;5;132;01m}\u001b[39;00m\u001b[33m, \u001b[39m\u001b[38;5;132;01m{\u001b[39;00m\u001b[38;5;28mlen\u001b[39m(cla2b2[\u001b[32m0\u001b[39m])\u001b[38;5;132;01m}\u001b[39;00m\u001b[33m).\u001b[39m\u001b[33m\"\u001b[39m)\n\u001b[32m    435\u001b[39m \u001b[38;5;28;01mif\u001b[39;00m coupled:\n",
      "\u001b[31mAttributeError\u001b[39m: 'NoneType' object has no attribute 'lmax'"
     ]
    },
    {
     "data": {
      "text/plain": [
       "<Figure size 1000x800 with 0 Axes>"
      ]
     },
     "metadata": {},
     "output_type": "display_data"
    }
   ],
   "source": [
    "figure = plt.figure(figsize=(10, 8))\n",
    "\n",
    "err_cells = []\n",
    "for i in range(len(cells)-1):\n",
    "    cov = compute_covariance(\n",
    "        covwsp,\n",
    "        wsp_HSC_HSC,\n",
    "        f_dg[i],\n",
    "        f_dg[i],\n",
    "    \n",
    "    )\n",
    "    \n",
    "    correlation_matrix = covariance_to_correlation(cov)\n",
    "    plt.matshow(correlation_matrix, cmap='viridis', norm=SymLogNorm(linthresh=1e-3))\n",
    "    plt.colorbar(label='Correlation Coefficient')\n",
    "    \n",
    "    err = np.sqrt(np.diag(cov))\n",
    "    err_cells.append(err)"
   ]
  },
  {
   "cell_type": "code",
   "execution_count": null,
   "id": "37c7f8c4",
   "metadata": {},
   "outputs": [],
   "source": [
    "cov = compute_covariance(covwsp, wsp_HSC_CIB, f_dg[0], f_cib)\n",
    "corr = covariance_to_correlation(cov)\n",
    "\n",
    "plt.figure(figsize=(10, 8))\n",
    "plt.matshow(corr, cmap='viridis')"
   ]
  },
  {
   "cell_type": "code",
   "execution_count": 29,
   "id": "18618a25",
   "metadata": {},
   "outputs": [
    {
     "ename": "NameError",
     "evalue": "name 'err_cells' is not defined",
     "output_type": "error",
     "traceback": [
      "\u001b[31m---------------------------------------------------------------------------\u001b[39m",
      "\u001b[31mNameError\u001b[39m                                 Traceback (most recent call last)",
      "\u001b[36mCell\u001b[39m\u001b[36m \u001b[39m\u001b[32mIn[29]\u001b[39m\u001b[32m, line 7\u001b[39m\n\u001b[32m      5\u001b[39m nrow = i // \u001b[32m2\u001b[39m\n\u001b[32m      6\u001b[39m ncol = i % \u001b[32m2\u001b[39m\n\u001b[32m----> \u001b[39m\u001b[32m7\u001b[39m ax[nrow,ncol].errorbar(ells, cells[i][\u001b[32m0\u001b[39m], yerr=\u001b[43merr_cells\u001b[49m[i], c=\u001b[33mf\u001b[39m\u001b[33m'\u001b[39m\u001b[33mC\u001b[39m\u001b[38;5;132;01m{\u001b[39;00mi\u001b[38;5;132;01m}\u001b[39;00m\u001b[33m'\u001b[39m, ecolor=\u001b[33mf\u001b[39m\u001b[33m'\u001b[39m\u001b[33mC\u001b[39m\u001b[38;5;132;01m{\u001b[39;00mi\u001b[38;5;132;01m}\u001b[39;00m\u001b[33m'\u001b[39m, linestyle=\u001b[33m'\u001b[39m\u001b[33mnone\u001b[39m\u001b[33m'\u001b[39m, marker=\u001b[33m'\u001b[39m\u001b[33mo\u001b[39m\u001b[33m'\u001b[39m)\n\u001b[32m      8\u001b[39m ax[nrow,ncol].errorbar(ells, -cells[i][\u001b[32m0\u001b[39m], yerr=err_cells[i], mec=\u001b[33mf\u001b[39m\u001b[33m'\u001b[39m\u001b[33mC\u001b[39m\u001b[38;5;132;01m{\u001b[39;00mi\u001b[38;5;132;01m}\u001b[39;00m\u001b[33m'\u001b[39m, mfc=\u001b[33m'\u001b[39m\u001b[33mnone\u001b[39m\u001b[33m'\u001b[39m, ecolor=\u001b[33mf\u001b[39m\u001b[33m'\u001b[39m\u001b[33mC\u001b[39m\u001b[38;5;132;01m{\u001b[39;00mi\u001b[38;5;132;01m}\u001b[39;00m\u001b[33m'\u001b[39m, linestyle=\u001b[33m'\u001b[39m\u001b[33mnone\u001b[39m\u001b[33m'\u001b[39m, marker=\u001b[33m'\u001b[39m\u001b[33mo\u001b[39m\u001b[33m'\u001b[39m)\n\u001b[32m     10\u001b[39m ax[nrow,ncol].set_xscale(\u001b[33m'\u001b[39m\u001b[33mlog\u001b[39m\u001b[33m'\u001b[39m)\n",
      "\u001b[31mNameError\u001b[39m: name 'err_cells' is not defined"
     ]
    },
    {
     "data": {
      "image/png": "[encoded data removed]",
      "text/plain": [
       "<Figure size 640x480 with 4 Axes>"
      ]
     },
     "metadata": {},
     "output_type": "display_data"
    }
   ],
   "source": [
    "f, ax = plt.subplots(2, 2)\n",
    "ells = b.get_effective_ells()\n",
    "\n",
    "for i in range(len(cells)):\n",
    "    nrow = i // 2\n",
    "    ncol = i % 2\n",
    "    ax[nrow,ncol].errorbar(ells, cells[i][0], yerr=err_cells[i], c=f'C{i}', ecolor=f'C{i}', linestyle='none', marker='o')\n",
    "    ax[nrow,ncol].errorbar(ells, -cells[i][0], yerr=err_cells[i], mec=f'C{i}', mfc='none', ecolor=f'C{i}', linestyle='none', marker='o')\n",
    "\n",
    "    ax[nrow,ncol].set_xscale('log')\n",
    "    ax[nrow,ncol].set_yscale('log')"
   ]
  },
  {
   "cell_type": "code",
   "execution_count": null,
   "id": "d323ac12",
   "metadata": {},
   "outputs": [],
   "source": [
    "import h5py as h5\n",
    "\n",
    "nzs = h5.File('hsc_nzs.hdf5', 'r')\n",
    "\n",
    "plt.figure(figsize=(10, 8))\n",
    "for i in range(4):\n",
    "    plt.plot(nzs['z'][:], nzs[f'nz_{i}'][:], label=f'HSC zbin {i}')\n",
    "plt.xlabel('Redshift')\n",
    "plt.ylabel('Redshift Distribution')\n",
    "plt.legend()\n",
    "plt.title('HSC Redshift Distributions')"
   ]
  },
  {
   "cell_type": "code",
   "execution_count": null,
   "id": "798cfb75",
   "metadata": {},
   "outputs": [],
   "source": [
    "s = sacc.Sacc()\n",
    "plt.figure(figsize=(10, 8))\n",
    "# Temporary z distribution/kernel\n",
    "\n",
    "z_bins = [(0.3, 0.6),(0.6, 0.9),(0.9, 1.2),(1.2, 1.5)]\n",
    "\n",
    "\n",
    "for i, (z_min, z_max) in enumerate(z_bins):\n",
    "    z = nzs['z'][:]\n",
    "    #plt.plot(z, nzs[f'nz_{i}'][:], label=f'HSC zbin {i}')\n",
    "\n",
    "    s.add_tracer(\n",
    "        'NZ', f'hsc_zbin{i}',\n",
    "        quantity='galaxy_density',\n",
    "        spin=0,\n",
    "        z=z,\n",
    "        nz=nzs[f'nz_{i}'][:],  # Use the dataset from the HDF5 file\n",
    "    )\n",
    "\n",
    "\n",
    "s.add_tracer('Misc', 'cib_857micron',\n",
    "             quantity='intensity',\n",
    "             spin=0,\n",
    "             )\n",
    "\n"
   ]
  },
  {
   "cell_type": "code",
   "execution_count": 17,
   "id": "7ec773d8",
   "metadata": {},
   "outputs": [],
   "source": [
    "# compute all angular power spectra\n",
    "\n",
    "# HSC auto-correlation and cross-correlation \n",
    "cl_g0g0 = nmt.compute_full_master(f_dg[0], f_dg[0], b)\n",
    "cl_g0g1 = nmt.compute_full_master(f_dg[0], f_dg[1], b)\n",
    "cl_g0g2 = nmt.compute_full_master(f_dg[0], f_dg[2], b)\n",
    "cl_g0g3 = nmt.compute_full_master(f_dg[0], f_dg[3], b)\n",
    "\n",
    "cl_g1g1 = nmt.compute_full_master(f_dg[1], f_dg[1], b)\n",
    "cl_g1g2 = nmt.compute_full_master(f_dg[1], f_dg[2], b)\n",
    "cl_g1g3 = nmt.compute_full_master(f_dg[1], f_dg[3], b)\n",
    "\n",
    "cl_g2g2 = nmt.compute_full_master(f_dg[2], f_dg[2], b)\n",
    "cl_g2g3 = nmt.compute_full_master(f_dg[2], f_dg[3], b)\n",
    "\n",
    "cl_g3g3 = nmt.compute_full_master(f_dg[3], f_dg[3], b)\n",
    "\n",
    "# CIB auto-correlation\n",
    "cl_cib_cib = nmt.compute_full_master(f_cib, f_cib, b)\n",
    "\n",
    "# HSC-CIB cross-correlation\n",
    "cl_g0cib = nmt.compute_full_master(f_dg[0], f_cib, b)\n",
    "cl_g1cib = nmt.compute_full_master(f_dg[1], f_cib, b)\n",
    "cl_g2cib = nmt.compute_full_master(f_dg[2], f_cib, b)\n",
    "cl_g3cib = nmt.compute_full_master(f_dg[3], f_cib, b)\n",
    "\n",
    "\n"
   ]
  },
  {
   "cell_type": "code",
   "execution_count": 20,
   "id": "ccbf1caf",
   "metadata": {},
   "outputs": [],
   "source": [
    "cl_dict = {\n",
    "    'g0g0': cl_g0g0,\n",
    "    'g0g1': cl_g0g1,\n",
    "    'g0g2': cl_g0g2,\n",
    "    'g0g3': cl_g0g3,\n",
    "    'g1g1': cl_g1g1,\n",
    "    'g1g2': cl_g1g2,\n",
    "    'g1g3': cl_g1g3,\n",
    "    'g2g2': cl_g2g2,\n",
    "    'g2g3': cl_g2g3,\n",
    "    'g3g3': cl_g3g3,\n",
    "    'cib_cib': cl_cib_cib,\n",
    "    'g0cib': cl_g0cib,\n",
    "    'g1cib': cl_g1cib,\n",
    "    'g2cib': cl_g2cib,\n",
    "    'g3cib': cl_g3cib,\n",
    "}"
   ]
  },
  {
   "cell_type": "code",
   "execution_count": 28,
   "id": "a845ce0b",
   "metadata": {},
   "outputs": [
    {
     "name": "stderr",
     "output_type": "stream",
     "text": [
      "<>:7: SyntaxWarning: invalid escape sequence '\\e'\n",
      "<>:8: SyntaxWarning: invalid escape sequence '\\e'\n",
      "<>:7: SyntaxWarning: invalid escape sequence '\\e'\n",
      "<>:8: SyntaxWarning: invalid escape sequence '\\e'\n",
      "/tmp/ipykernel_18765/384036363.py:7: SyntaxWarning: invalid escape sequence '\\e'\n",
      "  plt.xlabel('Multipole $\\ell$')\n",
      "/tmp/ipykernel_18765/384036363.py:8: SyntaxWarning: invalid escape sequence '\\e'\n",
      "  plt.ylabel('Angular Power Spectrum $C_\\ell$ of HSC x CIB')\n",
      "/tmp/ipykernel_18765/384036363.py:7: SyntaxWarning: invalid escape sequence '\\e'\n",
      "  plt.xlabel('Multipole $\\ell$')\n",
      "/tmp/ipykernel_18765/384036363.py:8: SyntaxWarning: invalid escape sequence '\\e'\n",
      "  plt.ylabel('Angular Power Spectrum $C_\\ell$ of HSC x CIB')\n"
     ]
    },
    {
     "ename": "NameError",
     "evalue": "name 'ells' is not defined",
     "output_type": "error",
     "traceback": [
      "\u001b[31m---------------------------------------------------------------------------\u001b[39m",
      "\u001b[31mNameError\u001b[39m                                 Traceback (most recent call last)",
      "\u001b[36mCell\u001b[39m\u001b[36m \u001b[39m\u001b[32mIn[28]\u001b[39m\u001b[32m, line 1\u001b[39m\n\u001b[32m----> \u001b[39m\u001b[32m1\u001b[39m plt.plot(\u001b[43mells\u001b[49m, cl_g0cib[\u001b[32m0\u001b[39m], label=\u001b[33m'\u001b[39m\u001b[33mHSC zbin 0 x CIB\u001b[39m\u001b[33m'\u001b[39m, color=\u001b[33m'\u001b[39m\u001b[33mC0\u001b[39m\u001b[33m'\u001b[39m)\n\u001b[32m      2\u001b[39m plt.plot(ells, cl_g1cib[\u001b[32m0\u001b[39m], label=\u001b[33m'\u001b[39m\u001b[33mHSC zbin 1 x CIB\u001b[39m\u001b[33m'\u001b[39m, color=\u001b[33m'\u001b[39m\u001b[33mC1\u001b[39m\u001b[33m'\u001b[39m)\n\u001b[32m      3\u001b[39m plt.plot(ells, cl_g2cib[\u001b[32m0\u001b[39m], label=\u001b[33m'\u001b[39m\u001b[33mHSC zbin 2 x CIB\u001b[39m\u001b[33m'\u001b[39m, color=\u001b[33m'\u001b[39m\u001b[33mC2\u001b[39m\u001b[33m'\u001b[39m)\n",
      "\u001b[31mNameError\u001b[39m: name 'ells' is not defined"
     ]
    }
   ],
   "source": [
    "plt.plot(ells, cl_g0cib[0], label='HSC zbin 0 x CIB', color='C0')\n",
    "plt.plot(ells, cl_g1cib[0], label='HSC zbin 1 x CIB', color='C1')\n",
    "plt.plot(ells, cl_g2cib[0], label='HSC zbin 2 x CIB', color='C2')\n",
    "plt.plot(ells, cl_g3cib[0], label='HSC zbin 3 x CIB', color='C3')\n",
    "plt.xscale('log')\n",
    "plt.yscale('log')\n",
    "plt.xlabel('Multipole $\\ell$')\n",
    "plt.ylabel('Angular Power Spectrum $C_\\ell$ of HSC x CIB')\n",
    "plt.legend()"
   ]
  },
  {
   "cell_type": "code",
   "execution_count": null,
   "id": "54aaeb84",
   "metadata": {},
   "outputs": [],
   "source": [
    "# add power spectra\n",
    "\n",
    "\n",
    "wins = sacc.BandpowerWindow(ells_large, window_single.T)\n",
    "\n",
    "s.add_ell_cl('cl_00', 'cib_857micron', 'cib_857micron', ells, cl_cib_cib[0], window=wins)\n",
    "\n",
    "for i in range(4):\n",
    "    s.add_ell_cl('cl_00', f'hsc_zbin{i}', f'hsc_zbin{i}', ells, cl_dict[f'g{i}g{i}'][0], window=wins)\n",
    "    s.add_ell_cl('cl_00', f'hsc_zbin{i}', 'cib_857micron', ells, cl_dict[f'g{i}cib'][0], window=wins)\n",
    "    print(f'Adding auto-correlation for HSC zbin {i}')\n",
    "    for j in range(i+1, 4):\n",
    "        print((i, j))\n",
    "        s.add_ell_cl('cl_00', f'hsc_zbin{i}', f'hsc_zbin{j}', ells, cl_dict[f'g{i}g{j}'][0], window=wins)\n",
    "        print(f'Adding cross-correlation for HSC zbin {i} and {j}')\n",
    "\n",
    "\n",
    "\n",
    "\n",
    "for n, t in s.tracers.items():\n",
    "    print(t.name, t.quantity, type(t))\n",
    "\n"
   ]
  },
  {
   "cell_type": "code",
   "execution_count": null,
   "id": "77b37e15",
   "metadata": {},
   "outputs": [],
   "source": [
    "# Type of power spectra\n",
    "data_types = np.unique([d.data_type for d in s.data])\n",
    "print(\"Data types: \", data_types)\n",
    "\n",
    "# Tracer combinations\n",
    "print(\"Tracer combinations: \", s.get_tracer_combinations())\n",
    "\n",
    "# Data size\n",
    "print(\"Size: \", s.mean.size)"
   ]
  },
  {
   "cell_type": "markdown",
   "id": "fe2fe225",
   "metadata": {},
   "source": [
    "# Calculating covariance matrix \n",
    "\n",
    "I will only include the calculated power spectra"
   ]
  },
  {
   "cell_type": "code",
   "execution_count": 26,
   "id": "4913e9cb",
   "metadata": {},
   "outputs": [],
   "source": [
    "# Workspace Chooser\n",
    "\n",
    "def nmt_workspace_pick(wsps, i, j):\n",
    "    \"\"\"\n",
    "    Picks the appropriate NmtWorkspace based on the tracer indices i and j.\n",
    "    \n",
    "    Parameters\n",
    "    ----------\n",
    "    wsps: list of NmtWorkspace\n",
    "        List of available workspaces. In order [map1-map1, map1-map2, map2-map2]\n",
    "    i: int\n",
    "        Index of the first tracer.\n",
    "    j: int\n",
    "        Index of the second tracer.\n",
    "    \n",
    "    Returns\n",
    "    -------\n",
    "    NmtWorkspace\n",
    "        The selected workspace for the given tracer indices.\n",
    "    \"\"\"\n",
    "    if i == 4 and j == 4:\n",
    "        return wsps[2]\n",
    "    elif i == 4 and j < 4:\n",
    "        return wsps[1]\n",
    "    elif j == 4 and i < 4:\n",
    "        return wsps[1]\n",
    "    elif i < 4 and j < 4:\n",
    "        print(\"YEAH BABY\")\n",
    "        return wsps[0]\n",
    "    else:\n",
    "        print(f\"Error: ({i}, {j}) is not a valid tracer combination.\")\n",
    "\n"
   ]
  },
  {
   "cell_type": "code",
   "execution_count": 14,
   "id": "d24c5387",
   "metadata": {},
   "outputs": [],
   "source": [
    "indices = [# All 10 HSC auto- and cross-correlations\n",
    "    (0, 0), (0, 1), (0, 2), (0, 3),\n",
    "            (1, 1), (1, 2), (1, 3),\n",
    "                    (2, 2), (2, 3),\n",
    "                            (3, 3),\n",
    "\n",
    "    # The 4 HSC-CIB cross-correlations\n",
    "    (0, 4), (1, 4), (2, 4), (3, 4),\n",
    "\n",
    "    # The CIB auto-correlation\n",
    "    (4, 4)]\n",
    "\n",
    "block_matrix_list = [[None for _ in range(15)] for _ in range(15)]\n",
    "\n",
    "\n"
   ]
  },
  {
   "cell_type": "code",
   "execution_count": 27,
   "id": "c23e3260",
   "metadata": {},
   "outputs": [
    {
     "name": "stdout",
     "output_type": "stream",
     "text": [
      "Computing covariance for indices (0, 0) and (0, 0) and index pair (0, 0)\n",
      "YEAH BABY\n",
      "YEAH BABY\n"
     ]
    },
    {
     "ename": "AttributeError",
     "evalue": "'NoneType' object has no attribute 'lmax'",
     "output_type": "error",
     "traceback": [
      "\u001b[31m---------------------------------------------------------------------------\u001b[39m",
      "\u001b[31mAttributeError\u001b[39m                            Traceback (most recent call last)",
      "\u001b[36mCell\u001b[39m\u001b[36m \u001b[39m\u001b[32mIn[27]\u001b[39m\u001b[32m, line 34\u001b[39m\n\u001b[32m     31\u001b[39m wsp1 = nmt_workspace_pick(workspaces, i1, i2)\n\u001b[32m     32\u001b[39m wsp2 = nmt_workspace_pick(workspaces, j1, j2)\n\u001b[32m---> \u001b[39m\u001b[32m34\u001b[39m cov = \u001b[43mcompute_covariance\u001b[49m\u001b[43m(\u001b[49m\u001b[43mcovwsp\u001b[49m\u001b[43m,\u001b[49m\u001b[43m \u001b[49m\u001b[43mwsp1\u001b[49m\u001b[43m,\u001b[49m\u001b[43m \u001b[49m\u001b[43mmaps\u001b[49m\u001b[43m[\u001b[49m\u001b[43mi1\u001b[49m\u001b[43m]\u001b[49m\u001b[43m,\u001b[49m\u001b[43m \u001b[49m\u001b[43mmaps\u001b[49m\u001b[43m[\u001b[49m\u001b[43mi2\u001b[49m\u001b[43m]\u001b[49m\u001b[43m,\u001b[49m\u001b[43m \u001b[49m\u001b[43mwj\u001b[49m\u001b[43m=\u001b[49m\u001b[43mwsp2\u001b[49m\u001b[43m,\u001b[49m\u001b[43m \u001b[49m\u001b[43mf_j1\u001b[49m\u001b[43m=\u001b[49m\u001b[43mmaps\u001b[49m\u001b[43m[\u001b[49m\u001b[43mj1\u001b[49m\u001b[43m]\u001b[49m\u001b[43m,\u001b[49m\u001b[43m \u001b[49m\u001b[43mf_j2\u001b[49m\u001b[43m=\u001b[49m\u001b[43mmaps\u001b[49m\u001b[43m[\u001b[49m\u001b[43mj2\u001b[49m\u001b[43m]\u001b[49m\u001b[43m)\u001b[49m\n\u001b[32m     35\u001b[39m block_matrix_list[i][j] = cov\n\u001b[32m     36\u001b[39m \u001b[38;5;28;01mif\u001b[39;00m i != j:\n",
      "\u001b[36mCell\u001b[39m\u001b[36m \u001b[39m\u001b[32mIn[10]\u001b[39m\u001b[32m, line 64\u001b[39m, in \u001b[36mcompute_covariance\u001b[39m\u001b[34m(cw, wi, f_i1, f_i2, wj, f_j1, f_j2, f_sky)\u001b[39m\n\u001b[32m     60\u001b[39m cl_guess_i2j1 = cl_coupled_i2j1 / f_sky_i2j1\n\u001b[32m     61\u001b[39m cl_guess_i2j2 = cl_coupled_i2j2 / f_sky_i2j2\n\u001b[32m---> \u001b[39m\u001b[32m64\u001b[39m covar = \u001b[43mnmt\u001b[49m\u001b[43m.\u001b[49m\u001b[43mgaussian_covariance\u001b[49m\u001b[43m(\u001b[49m\u001b[43mcw\u001b[49m\u001b[43m,\u001b[49m\u001b[43m \u001b[49m\n\u001b[32m     65\u001b[39m \u001b[43m\t\t\t\t\t\t\t\t\u001b[49m\u001b[32;43m0\u001b[39;49m\u001b[43m,\u001b[49m\u001b[43m \u001b[49m\u001b[32;43m0\u001b[39;49m\u001b[43m,\u001b[49m\u001b[43m \u001b[49m\u001b[32;43m0\u001b[39;49m\u001b[43m,\u001b[49m\u001b[43m \u001b[49m\u001b[32;43m0\u001b[39;49m\u001b[43m,\u001b[49m\u001b[43m\t\t\t\u001b[49m\u001b[38;5;66;43;03m#spin of each field\u001b[39;49;00m\n\u001b[32m     66\u001b[39m \u001b[43m\t\t\t\t\t\t\t\t\u001b[49m\u001b[43m[\u001b[49m\u001b[43mcl_guess_i1j1\u001b[49m\u001b[43m[\u001b[49m\u001b[32;43m0\u001b[39;49m\u001b[43m]\u001b[49m\u001b[43m]\u001b[49m\u001b[43m,\u001b[49m\u001b[43m\t\u001b[49m\n\u001b[32m     67\u001b[39m \u001b[43m\t\t\t\t\t\t\t\t\u001b[49m\u001b[43m[\u001b[49m\u001b[43mcl_guess_i1j2\u001b[49m\u001b[43m[\u001b[49m\u001b[32;43m0\u001b[39;49m\u001b[43m]\u001b[49m\u001b[43m]\u001b[49m\u001b[43m,\u001b[49m\n\u001b[32m     68\u001b[39m \u001b[43m\t\t\t\t\t\t\t\t\u001b[49m\u001b[43m[\u001b[49m\u001b[43mcl_guess_i2j1\u001b[49m\u001b[43m[\u001b[49m\u001b[32;43m0\u001b[39;49m\u001b[43m]\u001b[49m\u001b[43m]\u001b[49m\u001b[43m,\u001b[49m\n\u001b[32m     69\u001b[39m \u001b[43m\t\t\t\t\t\t\t\t\u001b[49m\u001b[43m[\u001b[49m\u001b[43mcl_guess_i2j2\u001b[49m\u001b[43m[\u001b[49m\u001b[32;43m0\u001b[39;49m\u001b[43m]\u001b[49m\u001b[43m]\u001b[49m\u001b[43m,\u001b[49m\n\u001b[32m     70\u001b[39m \u001b[43m\t\t\t\t\t\t\t\t\u001b[49m\u001b[43mwi\u001b[49m\u001b[43m,\u001b[49m\n\u001b[32m     71\u001b[39m \u001b[43m\t\t\t\t\t\t\t\t\u001b[49m\u001b[43mwj\u001b[49m\u001b[43m)\u001b[49m\n\u001b[32m     73\u001b[39m \u001b[38;5;28;01mreturn\u001b[39;00m covar\n",
      "\u001b[36mFile \u001b[39m\u001b[32m~/miniconda3/envs/Cosmo1/lib/python3.13/site-packages/pymaster/covariance.py:426\u001b[39m, in \u001b[36mgaussian_covariance\u001b[39m\u001b[34m(cw, spin_a1, spin_a2, spin_b1, spin_b2, cla1b1, cla1b2, cla2b1, cla2b2, wa, wb, coupled)\u001b[39m\n\u001b[32m    419\u001b[39m \u001b[38;5;28;01mif\u001b[39;00m (\u001b[38;5;28mlen\u001b[39m(cla1b1) != nm_a1*nm_b1) \u001b[38;5;129;01mor\u001b[39;00m \\\n\u001b[32m    420\u001b[39m    (\u001b[38;5;28mlen\u001b[39m(cla1b2) != nm_a1*nm_b2) \u001b[38;5;129;01mor\u001b[39;00m \\\n\u001b[32m    421\u001b[39m    (\u001b[38;5;28mlen\u001b[39m(cla2b1) != nm_a2*nm_b1) \u001b[38;5;129;01mor\u001b[39;00m \\\n\u001b[32m    422\u001b[39m    (\u001b[38;5;28mlen\u001b[39m(cla2b2) != nm_a2*nm_b2):\n\u001b[32m    423\u001b[39m     \u001b[38;5;28;01mraise\u001b[39;00m \u001b[38;5;167;01mValueError\u001b[39;00m(\u001b[33m\"\u001b[39m\u001b[33mInput spins do not match input power\u001b[39m\u001b[33m\"\u001b[39m\n\u001b[32m    424\u001b[39m                      \u001b[33m\"\u001b[39m\u001b[33mspectrum shapes\u001b[39m\u001b[33m\"\u001b[39m)\n\u001b[32m--> \u001b[39m\u001b[32m426\u001b[39m \u001b[38;5;28;01mif\u001b[39;00m (\u001b[38;5;28mlen\u001b[39m(cla1b1[\u001b[32m0\u001b[39m]) < \u001b[43mcw\u001b[49m\u001b[43m.\u001b[49m\u001b[43mwsp\u001b[49m\u001b[43m.\u001b[49m\u001b[43mlmax\u001b[49m + \u001b[32m1\u001b[39m) \u001b[38;5;129;01mor\u001b[39;00m \\\n\u001b[32m    427\u001b[39m    (\u001b[38;5;28mlen\u001b[39m(cla1b2[\u001b[32m0\u001b[39m]) < cw.wsp.lmax + \u001b[32m1\u001b[39m) \u001b[38;5;129;01mor\u001b[39;00m \\\n\u001b[32m    428\u001b[39m    (\u001b[38;5;28mlen\u001b[39m(cla2b1[\u001b[32m0\u001b[39m]) < cw.wsp.lmax + \u001b[32m1\u001b[39m) \u001b[38;5;129;01mor\u001b[39;00m \\\n\u001b[32m    429\u001b[39m    (\u001b[38;5;28mlen\u001b[39m(cla2b2[\u001b[32m0\u001b[39m]) < cw.wsp.lmax + \u001b[32m1\u001b[39m):\n\u001b[32m    430\u001b[39m     \u001b[38;5;28;01mraise\u001b[39;00m \u001b[38;5;167;01mValueError\u001b[39;00m(\u001b[33m\"\u001b[39m\u001b[33mInput C_ls have a weird length. \u001b[39m\u001b[33m\"\u001b[39m\n\u001b[32m    431\u001b[39m                      \u001b[33mf\u001b[39m\u001b[33m\"\u001b[39m\u001b[33mExpected \u001b[39m\u001b[38;5;132;01m{\u001b[39;00mcw.wsp.lmax+\u001b[32m1\u001b[39m\u001b[38;5;132;01m}\u001b[39;00m\u001b[33m, but got \u001b[39m\u001b[33m\"\u001b[39m\n\u001b[32m    432\u001b[39m                      \u001b[33mf\u001b[39m\u001b[33m\"\u001b[39m\u001b[33m(\u001b[39m\u001b[38;5;132;01m{\u001b[39;00m\u001b[38;5;28mlen\u001b[39m(cla1b1[\u001b[32m0\u001b[39m])\u001b[38;5;132;01m}\u001b[39;00m\u001b[33m, \u001b[39m\u001b[38;5;132;01m{\u001b[39;00m\u001b[38;5;28mlen\u001b[39m(cla1b2[\u001b[32m0\u001b[39m])\u001b[38;5;132;01m}\u001b[39;00m\u001b[33m, \u001b[39m\u001b[33m\"\u001b[39m\n\u001b[32m    433\u001b[39m                      \u001b[33mf\u001b[39m\u001b[33m\"\u001b[39m\u001b[38;5;132;01m{\u001b[39;00m\u001b[38;5;28mlen\u001b[39m(cla2b1[\u001b[32m0\u001b[39m])\u001b[38;5;132;01m}\u001b[39;00m\u001b[33m, \u001b[39m\u001b[38;5;132;01m{\u001b[39;00m\u001b[38;5;28mlen\u001b[39m(cla2b2[\u001b[32m0\u001b[39m])\u001b[38;5;132;01m}\u001b[39;00m\u001b[33m).\u001b[39m\u001b[33m\"\u001b[39m)\n\u001b[32m    435\u001b[39m \u001b[38;5;28;01mif\u001b[39;00m coupled:\n",
      "\u001b[31mAttributeError\u001b[39m: 'NoneType' object has no attribute 'lmax'"
     ]
    }
   ],
   "source": [
    "'''\n",
    "Data vector layout: (cl_g0g0, cl_g0g1, cl_g0g2, cl_g0g3, cl_g1g1, cl_g1g2, cl_g1g3, cl_g2g2, cl_g2g3, cl_g3g3, cl_cib_cib, cl_g0cib, cl_g1cib, cl_g2cib, cl_g3cib).T\n",
    "\n",
    "This includes the following angular power spectra:\n",
    "- HSC auto-correlations: cl_g0g0, cl_g1g1, ...\n",
    "- HSC-CIB cross-correlations: cl_g0cib, cl_g1cib, ...\n",
    "- CIB auto-correlation: cl_cib_cib\n",
    "\n",
    "Note: g0, g1, ... refer to the HSC redshift bins (0, 1, 2, 3), and cib refers to the CIB map.\n",
    "\n",
    "Covariance matrix layout:\n",
    "\n",
    "| cov(cl_g0g0, cl_g0g0)  | cov(cl_g0g0, cl_g0g1)  | ... | cov(cl_g0g0, cl_g3cib)  | \n",
    "| cov(cl_g0g1, cl_g0g0)  | cov(cl_g0g1, cl_g0g1)  | ... | cov(cl_g0g1, cl_g3cib)  |\n",
    "| ...                    | ...                    | ... | ...                     |\n",
    "| cov(cl_g3cib, cl_g0g0) | cov(cl_g3cib, cl_g0g1) | ... | cov(cl_g3cib, cl_g3cib) |\n",
    "\n",
    "'''\n",
    "\n",
    "# Note: this code assumes that one only is working with two unique masks.\n",
    "\n",
    "workspaces = [wsp_HSC_HSC, wsp_HSC_CIB, wsp_CIB_CIB]\n",
    "\n",
    "for i in range(len(indices)):\n",
    "    for j in range(i, len(indices)):\n",
    "        i1, i2 = indices[i]\n",
    "        j1, j2 = indices[j]\n",
    "\n",
    "        print(f\"Computing covariance for indices ({i1}, {i2}) and ({j1}, {j2}) and index pair ({i}, {j})\")\n",
    "\n",
    "        wsp1 = nmt_workspace_pick(workspaces, i1, i2)\n",
    "        wsp2 = nmt_workspace_pick(workspaces, j1, j2)\n",
    "\n",
    "        cov = compute_covariance(covwsp, wsp1, maps[i1], maps[i2], wj=wsp2, f_j1=maps[j1], f_j2=maps[j2])\n",
    "        block_matrix_list[i][j] = cov\n",
    "        if i != j:\n",
    "            block_matrix_list[j][i] = cov.T\n",
    "\n",
    "        \n",
    "        \n",
    "\n"
   ]
  },
  {
   "cell_type": "code",
   "execution_count": null,
   "id": "4b9da10a",
   "metadata": {},
   "outputs": [],
   "source": [
    "final = np.block(block_matrix_list)\n",
    "finalc = covariance_to_correlation(final)  # Create a copy of the final covariance matrix   \n",
    "\n",
    "np.fill_diagonal(finalc, np.nan)  # Set the diagonal to zero to focus on correlations\n",
    "\n",
    "plt.figure(figsize=(10, 8))\n",
    "plt.matshow(finalc, cmap='viridis', norm=SymLogNorm(linthresh=1e-3))\n",
    "plt.colorbar(label='Correlation Coefficient')"
   ]
  }
 ],
 "metadata": {
  "kernelspec": {
   "display_name": "Cosmo1",
   "language": "python",
   "name": "python3"
  },
  "language_info": {
   "codemirror_mode": {
    "name": "ipython",
    "version": 3
   },
   "file_extension": ".py",
   "mimetype": "text/x-python",
   "name": "python",
   "nbconvert_exporter": "python",
   "pygments_lexer": "ipython3",
   "version": "3.13.5"
  }
 },
 "nbformat": 4,
 "nbformat_minor": 5
}
